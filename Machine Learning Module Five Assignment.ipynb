{
 "cells": [
  {
   "cell_type": "code",
   "execution_count": 1,
   "id": "8a8f0bca-1683-4251-b3f7-987a8e9694c4",
   "metadata": {},
   "outputs": [],
   "source": [
    "import numpy as np\n",
    "import pandas as pd\n",
    "import statsmodels.api as sm\n",
    "import os\n",
    "from PIL import Image\n",
    "from sklearn.pipeline import Pipeline\n",
    "from sklearn.preprocessing import MinMaxScaler\n",
    "from sklearn.decomposition import PCA\n",
    "import plotly.express as px"
   ]
  },
  {
   "cell_type": "markdown",
   "id": "bc2610f9-6006-4e8b-ad6d-b71510c872af",
   "metadata": {},
   "source": [
    "1. Load the 5 images and plot them. Make sure the name of the file is displayed on the title of the relevant image."
   ]
  },
  {
   "cell_type": "code",
   "execution_count": null,
   "id": "718aa423-17dd-4cae-895f-bc75e32ebd3a",
   "metadata": {},
   "outputs": [],
   "source": [
    "path = 'landset'\n",
    "X = []\n",
    "for imageFile in os.listdir(path):\n",
    "    img_array = np.array(Image.open(os.path.join(path, imageFile)))\n",
    "    fig = px.imshow(img_array, binary_string=True)\n",
    "    fig.update_layout(title=imageFile)\n",
    "    fig.show()\n",
    "    X.append(img_array)"
   ]
  },
  {
   "cell_type": "code",
   "execution_count": 8,
   "id": "82a1617e-6933-4b28-9068-a638347c38ae",
   "metadata": {},
   "outputs": [],
   "source": [
    "X = np.array(X)"
   ]
  },
  {
   "cell_type": "markdown",
   "id": "d51b8d3a-e4b5-41ee-8f3d-d21939501a87",
   "metadata": {},
   "source": [
    "2. Set up a pipeline that scales the values linearly between 0 and 1 and applies PCA such that 5 images from different wavelengths are combined to 1 channel data."
   ]
  },
  {
   "cell_type": "code",
   "execution_count": 11,
   "id": "e68c232d-9d9a-4b98-bed4-e81693dab1bc",
   "metadata": {},
   "outputs": [],
   "source": [
    "img_pca = Pipeline(\n",
    "    steps=[\n",
    "        ('scale', MinMaxScaler()),\n",
    "        ('pca', PCA(n_components = 1 ))\n",
    "    ]\n",
    "\n",
    ")"
   ]
  },
  {
   "cell_type": "code",
   "execution_count": null,
   "id": "86156517-45b0-44a9-9bf2-a1de2e7a1d8d",
   "metadata": {},
   "outputs": [],
   "source": [
    "X_train = X.reshape(X.shape[0], X.shape[1] * X.shape[2])\n",
    "print(X_train.shape)\n",
    "X_train = X_train.T\n",
    "print(X_train.shape)"
   ]
  },
  {
   "cell_type": "code",
   "execution_count": null,
   "id": "a3082ce6-2434-4311-aab7-7ef634e895d3",
   "metadata": {},
   "outputs": [],
   "source": [
    "img_pca.fit(X_train)"
   ]
  },
  {
   "cell_type": "markdown",
   "id": "e2d9c4a9-4f5a-4aa1-a43b-9a0e116f2dc7",
   "metadata": {},
   "source": [
    "3. Report the number of features and the number of samples."
   ]
  },
  {
   "cell_type": "code",
   "execution_count": null,
   "id": "8582281a-576e-4cb7-b6f1-81ae7ecb7ff9",
   "metadata": {},
   "outputs": [],
   "source": [
    "print('number of feature:', img_pca[-1].n_features_in_)\n",
    "print('number of sample: ', img_pca[-1].n_samples_)"
   ]
  },
  {
   "cell_type": "markdown",
   "id": "bb675647-5585-43a1-b795-3c0062310d37",
   "metadata": {},
   "source": [
    "4. What are the PCA directions?"
   ]
  },
  {
   "cell_type": "code",
   "execution_count": null,
   "id": "51efe4dd-fac3-47a6-be94-85bc3a7b2410",
   "metadata": {},
   "outputs": [],
   "source": [
    "print('PCA directions: ', img_pca[-1].components_)"
   ]
  },
  {
   "cell_type": "markdown",
   "id": "9aa41f32-2788-4793-a7aa-685502ffd315",
   "metadata": {},
   "source": [
    "5. What is the explained variance ratio when using only this 1 image?"
   ]
  },
  {
   "cell_type": "code",
   "execution_count": null,
   "id": "560b4669-57ba-48d5-aaa4-fbaa4bf83c9a",
   "metadata": {},
   "outputs": [],
   "source": [
    "print('ratio:', img_pca[-1].explained_variance_ratio_)"
   ]
  },
  {
   "cell_type": "markdown",
   "id": "17dc10ce-548c-46bd-8197-bccd7a882a6a",
   "metadata": {},
   "source": [
    "Without multiple samples, PCA cannot compute variance across the dataset so value of ratio is nan"
   ]
  },
  {
   "cell_type": "markdown",
   "id": "ef42e704-3f30-455e-8352-dbdd9a000cd7",
   "metadata": {},
   "source": [
    "6. What is the value of the last pixel in the new image?"
   ]
  },
  {
   "cell_type": "code",
   "execution_count": null,
   "id": "8add3b2b-55cc-4e86-9043-65d4066eb7ae",
   "metadata": {},
   "outputs": [],
   "source": [
    "pca_X = img_pca.transform(X_train)\n",
    "pca_X.shape"
   ]
  },
  {
   "cell_type": "code",
   "execution_count": null,
   "id": "1ee12c8b-ad80-4795-a649-c8ff0f10b4fe",
   "metadata": {},
   "outputs": [],
   "source": [
    "last_pixel= pca_X[-1, -1]\n",
    "last_pixel"
   ]
  },
  {
   "cell_type": "markdown",
   "id": "7414922a-52a1-4ba7-8570-d3d52faee58e",
   "metadata": {},
   "source": [
    "7. Display the new image"
   ]
  },
  {
   "cell_type": "code",
   "execution_count": null,
   "id": "eb8f328b-3bfd-47b9-aef5-a92b83624fb7",
   "metadata": {},
   "outputs": [],
   "source": [
    "new_fig = px.imshow(pca_X.reshape(7651,7551),binary_string = True)\n",
    "new_fig.show()"
   ]
  },
  {
   "cell_type": "code",
   "execution_count": null,
   "id": "e4ad1524-19a1-429c-a93a-e94c3521b1a6",
   "metadata": {},
   "outputs": [],
   "source": []
  }
 ],
 "metadata": {
  "kernelspec": {
   "display_name": "Master",
   "language": "python",
   "name": "python3"
  },
  "language_info": {
   "codemirror_mode": {
    "name": "ipython",
    "version": 3
   },
   "file_extension": ".py",
   "mimetype": "text/x-python",
   "name": "python",
   "nbconvert_exporter": "python",
   "pygments_lexer": "ipython3",
   "version": "3.12.7"
  }
 },
 "nbformat": 4,
 "nbformat_minor": 5
}
